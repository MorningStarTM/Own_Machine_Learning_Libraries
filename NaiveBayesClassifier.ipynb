{
 "cells": [
  {
   "cell_type": "code",
   "execution_count": 301,
   "id": "970efc9f",
   "metadata": {},
   "outputs": [],
   "source": [
    "import pandas as pd\n",
    "import numpy as np"
   ]
  },
  {
   "cell_type": "code",
   "execution_count": 302,
   "id": "7af974a5",
   "metadata": {},
   "outputs": [],
   "source": [
    "df = pd.read_csv(\"H:\\\\python new\\\\Machine Learining\\\\PlayTennis.csv\")"
   ]
  },
  {
   "cell_type": "code",
   "execution_count": 303,
   "id": "97660323",
   "metadata": {},
   "outputs": [
    {
     "data": {
      "text/html": [
       "<div>\n",
       "<style scoped>\n",
       "    .dataframe tbody tr th:only-of-type {\n",
       "        vertical-align: middle;\n",
       "    }\n",
       "\n",
       "    .dataframe tbody tr th {\n",
       "        vertical-align: top;\n",
       "    }\n",
       "\n",
       "    .dataframe thead th {\n",
       "        text-align: right;\n",
       "    }\n",
       "</style>\n",
       "<table border=\"1\" class=\"dataframe\">\n",
       "  <thead>\n",
       "    <tr style=\"text-align: right;\">\n",
       "      <th></th>\n",
       "      <th>Outlook</th>\n",
       "      <th>Temperature</th>\n",
       "      <th>Humidity</th>\n",
       "      <th>Wind</th>\n",
       "      <th>Play Tennis</th>\n",
       "    </tr>\n",
       "  </thead>\n",
       "  <tbody>\n",
       "    <tr>\n",
       "      <th>0</th>\n",
       "      <td>Sunny</td>\n",
       "      <td>Hot</td>\n",
       "      <td>High</td>\n",
       "      <td>Weak</td>\n",
       "      <td>No</td>\n",
       "    </tr>\n",
       "    <tr>\n",
       "      <th>1</th>\n",
       "      <td>Sunny</td>\n",
       "      <td>Hot</td>\n",
       "      <td>High</td>\n",
       "      <td>Strong</td>\n",
       "      <td>No</td>\n",
       "    </tr>\n",
       "    <tr>\n",
       "      <th>2</th>\n",
       "      <td>Overcast</td>\n",
       "      <td>Hot</td>\n",
       "      <td>High</td>\n",
       "      <td>Weak</td>\n",
       "      <td>Yes</td>\n",
       "    </tr>\n",
       "    <tr>\n",
       "      <th>3</th>\n",
       "      <td>Rain</td>\n",
       "      <td>Mild</td>\n",
       "      <td>High</td>\n",
       "      <td>Weak</td>\n",
       "      <td>Yes</td>\n",
       "    </tr>\n",
       "    <tr>\n",
       "      <th>4</th>\n",
       "      <td>Rain</td>\n",
       "      <td>Cool</td>\n",
       "      <td>Normal</td>\n",
       "      <td>Weak</td>\n",
       "      <td>Yes</td>\n",
       "    </tr>\n",
       "  </tbody>\n",
       "</table>\n",
       "</div>"
      ],
      "text/plain": [
       "    Outlook Temperature Humidity    Wind Play Tennis\n",
       "0     Sunny         Hot     High    Weak          No\n",
       "1     Sunny         Hot     High  Strong          No\n",
       "2  Overcast         Hot     High    Weak         Yes\n",
       "3      Rain        Mild     High    Weak         Yes\n",
       "4      Rain        Cool   Normal    Weak         Yes"
      ]
     },
     "execution_count": 303,
     "metadata": {},
     "output_type": "execute_result"
    }
   ],
   "source": [
    "df.head()"
   ]
  },
  {
   "cell_type": "code",
   "execution_count": 304,
   "id": "4ac6a0d4",
   "metadata": {},
   "outputs": [],
   "source": [
    "from sklearn.preprocessing import LabelEncoder"
   ]
  },
  {
   "cell_type": "code",
   "execution_count": 305,
   "id": "6ee221c7",
   "metadata": {},
   "outputs": [],
   "source": [
    "le = LabelEncoder()"
   ]
  },
  {
   "cell_type": "code",
   "execution_count": 306,
   "id": "ddf704f9",
   "metadata": {},
   "outputs": [
    {
     "data": {
      "text/html": [
       "<div>\n",
       "<style scoped>\n",
       "    .dataframe tbody tr th:only-of-type {\n",
       "        vertical-align: middle;\n",
       "    }\n",
       "\n",
       "    .dataframe tbody tr th {\n",
       "        vertical-align: top;\n",
       "    }\n",
       "\n",
       "    .dataframe thead th {\n",
       "        text-align: right;\n",
       "    }\n",
       "</style>\n",
       "<table border=\"1\" class=\"dataframe\">\n",
       "  <thead>\n",
       "    <tr style=\"text-align: right;\">\n",
       "      <th></th>\n",
       "      <th>Outlook</th>\n",
       "      <th>Temperature</th>\n",
       "      <th>Humidity</th>\n",
       "      <th>Wind</th>\n",
       "      <th>Play Tennis</th>\n",
       "    </tr>\n",
       "  </thead>\n",
       "  <tbody>\n",
       "    <tr>\n",
       "      <th>0</th>\n",
       "      <td>2</td>\n",
       "      <td>1</td>\n",
       "      <td>0</td>\n",
       "      <td>1</td>\n",
       "      <td>0</td>\n",
       "    </tr>\n",
       "    <tr>\n",
       "      <th>1</th>\n",
       "      <td>2</td>\n",
       "      <td>1</td>\n",
       "      <td>0</td>\n",
       "      <td>0</td>\n",
       "      <td>0</td>\n",
       "    </tr>\n",
       "    <tr>\n",
       "      <th>2</th>\n",
       "      <td>0</td>\n",
       "      <td>1</td>\n",
       "      <td>0</td>\n",
       "      <td>1</td>\n",
       "      <td>1</td>\n",
       "    </tr>\n",
       "    <tr>\n",
       "      <th>3</th>\n",
       "      <td>1</td>\n",
       "      <td>2</td>\n",
       "      <td>0</td>\n",
       "      <td>1</td>\n",
       "      <td>1</td>\n",
       "    </tr>\n",
       "    <tr>\n",
       "      <th>4</th>\n",
       "      <td>1</td>\n",
       "      <td>0</td>\n",
       "      <td>1</td>\n",
       "      <td>1</td>\n",
       "      <td>1</td>\n",
       "    </tr>\n",
       "    <tr>\n",
       "      <th>5</th>\n",
       "      <td>1</td>\n",
       "      <td>0</td>\n",
       "      <td>1</td>\n",
       "      <td>0</td>\n",
       "      <td>0</td>\n",
       "    </tr>\n",
       "    <tr>\n",
       "      <th>6</th>\n",
       "      <td>0</td>\n",
       "      <td>0</td>\n",
       "      <td>1</td>\n",
       "      <td>0</td>\n",
       "      <td>1</td>\n",
       "    </tr>\n",
       "    <tr>\n",
       "      <th>7</th>\n",
       "      <td>2</td>\n",
       "      <td>2</td>\n",
       "      <td>0</td>\n",
       "      <td>1</td>\n",
       "      <td>0</td>\n",
       "    </tr>\n",
       "    <tr>\n",
       "      <th>8</th>\n",
       "      <td>2</td>\n",
       "      <td>0</td>\n",
       "      <td>1</td>\n",
       "      <td>1</td>\n",
       "      <td>1</td>\n",
       "    </tr>\n",
       "    <tr>\n",
       "      <th>9</th>\n",
       "      <td>1</td>\n",
       "      <td>2</td>\n",
       "      <td>1</td>\n",
       "      <td>1</td>\n",
       "      <td>1</td>\n",
       "    </tr>\n",
       "    <tr>\n",
       "      <th>10</th>\n",
       "      <td>2</td>\n",
       "      <td>2</td>\n",
       "      <td>1</td>\n",
       "      <td>0</td>\n",
       "      <td>1</td>\n",
       "    </tr>\n",
       "    <tr>\n",
       "      <th>11</th>\n",
       "      <td>0</td>\n",
       "      <td>2</td>\n",
       "      <td>0</td>\n",
       "      <td>0</td>\n",
       "      <td>1</td>\n",
       "    </tr>\n",
       "    <tr>\n",
       "      <th>12</th>\n",
       "      <td>0</td>\n",
       "      <td>1</td>\n",
       "      <td>1</td>\n",
       "      <td>1</td>\n",
       "      <td>1</td>\n",
       "    </tr>\n",
       "    <tr>\n",
       "      <th>13</th>\n",
       "      <td>1</td>\n",
       "      <td>2</td>\n",
       "      <td>0</td>\n",
       "      <td>0</td>\n",
       "      <td>0</td>\n",
       "    </tr>\n",
       "  </tbody>\n",
       "</table>\n",
       "</div>"
      ],
      "text/plain": [
       "    Outlook  Temperature  Humidity  Wind  Play Tennis\n",
       "0         2            1         0     1            0\n",
       "1         2            1         0     0            0\n",
       "2         0            1         0     1            1\n",
       "3         1            2         0     1            1\n",
       "4         1            0         1     1            1\n",
       "5         1            0         1     0            0\n",
       "6         0            0         1     0            1\n",
       "7         2            2         0     1            0\n",
       "8         2            0         1     1            1\n",
       "9         1            2         1     1            1\n",
       "10        2            2         1     0            1\n",
       "11        0            2         0     0            1\n",
       "12        0            1         1     1            1\n",
       "13        1            2         0     0            0"
      ]
     },
     "execution_count": 306,
     "metadata": {},
     "output_type": "execute_result"
    }
   ],
   "source": [
    "df_encode = df.apply(le.fit_transform,axis=0)\n",
    "df_encode"
   ]
  },
  {
   "cell_type": "code",
   "execution_count": 307,
   "id": "a4f3cd55",
   "metadata": {},
   "outputs": [],
   "source": [
    "del df_encode['Wind']\n",
    "del df_encode['Humidity']"
   ]
  },
  {
   "cell_type": "code",
   "execution_count": 308,
   "id": "e3b61047",
   "metadata": {},
   "outputs": [],
   "source": [
    "def Prior_prob(y_train,label):\n",
    "    classes = np.unique(y_train)\n",
    "    print(classes)\n",
    "    value = np.array(y_train)\n",
    "    print(value)\n",
    "    yes = np.count_nonzero(value==label)\n",
    "    deno = len(y_train)\n",
    "    Prob_fea = yes/deno\n",
    "    \n",
    "    return Prob_fea\n",
    "    \n",
    "    "
   ]
  },
  {
   "cell_type": "code",
   "execution_count": 309,
   "id": "d66f3389",
   "metadata": {},
   "outputs": [],
   "source": [
    "def likelyhood(X_train,y_train,prior_prob,feature_val,label):\n",
    "    feature_col = X_train.columns\n",
    "    y = y_train\n",
    "    value = np.array(y_train)\n",
    "    deno = np.count_nonzero(value == label)\n",
    "    counter = 1.0\n",
    "    for i in range (len(feature_col)):\n",
    "        feature_column = df_encode[feature_col[i]].values\n",
    "        feature_value = feature_column[y == label]\n",
    "        x_feature = np.count_nonzero(feature_value == feature_val[i])\n",
    "        probability = x_feature/deno\n",
    "        print(probability)\n",
    "        counter *= probability\n",
    "    return counter \n",
    "        \n",
    "            \n",
    "    "
   ]
  },
  {
   "cell_type": "code",
   "execution_count": 310,
   "id": "439a406b",
   "metadata": {},
   "outputs": [],
   "source": [
    "y = df_encode['Play Tennis']"
   ]
  },
  {
   "cell_type": "code",
   "execution_count": 311,
   "id": "e631ff83",
   "metadata": {},
   "outputs": [],
   "source": [
    "x = df_encode.iloc[:, df_encode.columns != 'Play Tennis']"
   ]
  },
  {
   "cell_type": "code",
   "execution_count": 327,
   "id": "9a27f340",
   "metadata": {},
   "outputs": [],
   "source": [
    "def normalization(yesProb,noProb):\n",
    "    yesmax = yesProb/(yesProb+noProb)\n",
    "    nomax = noProb/(yesProb+noProb)\n",
    "    print(\"Yes: \",yesmax, \" No: \",nomax)\n",
    "    "
   ]
  },
  {
   "cell_type": "code",
   "execution_count": 335,
   "id": "eb22b687",
   "metadata": {},
   "outputs": [],
   "source": [
    "feature = [0,0,0,0]"
   ]
  },
  {
   "cell_type": "code",
   "execution_count": 336,
   "id": "d00936ad",
   "metadata": {},
   "outputs": [
    {
     "name": "stdout",
     "output_type": "stream",
     "text": [
      "[0 1]\n",
      "[0 0 1 1 1 0 1 0 1 1 1 1 1 0]\n",
      "0.4444444444444444\n",
      "0.3333333333333333\n"
     ]
    },
    {
     "data": {
      "text/plain": [
       "0.09523809523809525"
      ]
     },
     "execution_count": 336,
     "metadata": {},
     "output_type": "execute_result"
    }
   ],
   "source": [
    "yes = Prior_prob(df_encode['Play Tennis'],1)\n",
    "yes\n",
    "like1 = likelyhood(x,y,yes,feature,1)\n",
    "like1\n",
    "ProbYes = yes * like1\n",
    "ProbYes"
   ]
  },
  {
   "cell_type": "code",
   "execution_count": 337,
   "id": "953f6697",
   "metadata": {},
   "outputs": [
    {
     "name": "stdout",
     "output_type": "stream",
     "text": [
      "[0 1]\n",
      "[0 0 1 1 1 0 1 0 1 1 1 1 1 0]\n",
      "0.0\n",
      "0.2\n"
     ]
    },
    {
     "data": {
      "text/plain": [
       "0.0"
      ]
     },
     "execution_count": 337,
     "metadata": {},
     "output_type": "execute_result"
    }
   ],
   "source": [
    "no = Prior_prob(df_encode['Play Tennis'],0)\n",
    "no\n",
    "Like2 = likelyhood(x,y,no,feature,0)\n",
    "ProbNo = no * Like2\n",
    "ProbNo"
   ]
  },
  {
   "cell_type": "code",
   "execution_count": 338,
   "id": "fc35a039",
   "metadata": {},
   "outputs": [
    {
     "name": "stdout",
     "output_type": "stream",
     "text": [
      "Yes:  1.0  No:  0.0\n"
     ]
    }
   ],
   "source": [
    "normalization(ProbYes,ProbNo)"
   ]
  },
  {
   "cell_type": "code",
   "execution_count": null,
   "id": "ec1931b0",
   "metadata": {},
   "outputs": [],
   "source": []
  }
 ],
 "metadata": {
  "kernelspec": {
   "display_name": "Python 3",
   "language": "python",
   "name": "python3"
  },
  "language_info": {
   "codemirror_mode": {
    "name": "ipython",
    "version": 3
   },
   "file_extension": ".py",
   "mimetype": "text/x-python",
   "name": "python",
   "nbconvert_exporter": "python",
   "pygments_lexer": "ipython3",
   "version": "3.8.8"
  }
 },
 "nbformat": 4,
 "nbformat_minor": 5
}
